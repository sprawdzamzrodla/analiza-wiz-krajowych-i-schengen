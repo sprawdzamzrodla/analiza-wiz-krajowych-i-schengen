{
 "cells": [
  {
   "cell_type": "code",
   "execution_count": 63,
   "id": "83076b7a-d39c-4e03-ac6c-c5b9ed8bd78d",
   "metadata": {},
   "outputs": [],
   "source": [
    "import pandas as pd"
   ]
  },
  {
   "cell_type": "markdown",
   "id": "0213f8d9-3ee9-4220-8c8f-4bb024422a3f",
   "metadata": {},
   "source": [
    "# 1. Zestawienie wiz krajowych wydanych w latach 2020-2022"
   ]
  },
  {
   "cell_type": "code",
   "execution_count": 64,
   "id": "5bbc35d2-8f06-4f7a-b5bb-1548aa58f49a",
   "metadata": {},
   "outputs": [],
   "source": [
    "LICZBA_OBYWATELI = 37750000"
   ]
  },
  {
   "cell_type": "code",
   "execution_count": 65,
   "id": "242ef939-7d53-40ff-bb0d-4eb0f743ebfb",
   "metadata": {},
   "outputs": [],
   "source": [
    "df = pd.read_csv(\"./data/wizy_a_b_c_2022_2022.csv\")"
   ]
  },
  {
   "cell_type": "code",
   "execution_count": 66,
   "id": "225ef363-e875-4150-b0a5-48fdb98345f5",
   "metadata": {},
   "outputs": [
    {
     "data": {
      "text/html": [
       "<div>\n",
       "<style scoped>\n",
       "    .dataframe tbody tr th:only-of-type {\n",
       "        vertical-align: middle;\n",
       "    }\n",
       "\n",
       "    .dataframe tbody tr th {\n",
       "        vertical-align: top;\n",
       "    }\n",
       "\n",
       "    .dataframe thead th {\n",
       "        text-align: right;\n",
       "    }\n",
       "</style>\n",
       "<table border=\"1\" class=\"dataframe\">\n",
       "  <thead>\n",
       "    <tr style=\"text-align: right;\">\n",
       "      <th></th>\n",
       "      <th>A</th>\n",
       "      <th>C</th>\n",
       "      <th>D</th>\n",
       "      <th>suma</th>\n",
       "    </tr>\n",
       "    <tr>\n",
       "      <th>rok</th>\n",
       "      <th></th>\n",
       "      <th></th>\n",
       "      <th></th>\n",
       "      <th></th>\n",
       "    </tr>\n",
       "  </thead>\n",
       "  <tbody>\n",
       "    <tr>\n",
       "      <th>2020</th>\n",
       "      <td>1.0</td>\n",
       "      <td>103742.0</td>\n",
       "      <td>840327.0</td>\n",
       "      <td>944070.0</td>\n",
       "    </tr>\n",
       "    <tr>\n",
       "      <th>2021</th>\n",
       "      <td>0.0</td>\n",
       "      <td>39367.0</td>\n",
       "      <td>1003059.0</td>\n",
       "      <td>1042426.0</td>\n",
       "    </tr>\n",
       "    <tr>\n",
       "      <th>2022</th>\n",
       "      <td>109.0</td>\n",
       "      <td>72932.0</td>\n",
       "      <td>537958.0</td>\n",
       "      <td>610999.0</td>\n",
       "    </tr>\n",
       "  </tbody>\n",
       "</table>\n",
       "</div>"
      ],
      "text/plain": [
       "          A         C          D       suma\n",
       "rok                                        \n",
       "2020    1.0  103742.0   840327.0   944070.0\n",
       "2021    0.0   39367.0  1003059.0  1042426.0\n",
       "2022  109.0   72932.0   537958.0   610999.0"
      ]
     },
     "execution_count": 66,
     "metadata": {},
     "output_type": "execute_result"
    }
   ],
   "source": [
    "_df = df.groupby('rok')[['A', 'C', 'D']].sum()\n",
    "_df['suma'] = _df.sum(axis=1)\n",
    "_df"
   ]
  },
  {
   "cell_type": "code",
   "execution_count": 67,
   "id": "81141248-755a-41b7-ba94-b2e41b65bc76",
   "metadata": {},
   "outputs": [
    {
     "name": "stdout",
     "output_type": "stream",
     "text": [
      "Liczba wiz typu C na 1000 mieszkańców: 1.93\n"
     ]
    }
   ],
   "source": [
    "_data = _df.loc[2022][\"C\"] / LICZBA_OBYWATELI * 1000\n",
    "print(f\"Liczba wiz typu C na 1000 mieszkańców: {_data.round(2)}\")"
   ]
  },
  {
   "cell_type": "code",
   "execution_count": 68,
   "id": "307ed855-2424-41dc-9236-3b64070c3b26",
   "metadata": {},
   "outputs": [
    {
     "name": "stdout",
     "output_type": "stream",
     "text": [
      "Liczba wiz typu D na 1000 mieszkańców: 14.25\n"
     ]
    }
   ],
   "source": [
    "_data = _df.loc[2022][\"D\"] / LICZBA_OBYWATELI * 1000\n",
    "print(f\"Liczba wiz typu D na 1000 mieszkańców: {_data.round(2)}\")"
   ]
  },
  {
   "cell_type": "code",
   "execution_count": 69,
   "id": "a933c017-de13-4b42-b73a-b6222dd3cfb1",
   "metadata": {},
   "outputs": [
    {
     "name": "stdout",
     "output_type": "stream",
     "text": [
      "Liczba wszystkich wiz na 1000 mieszkańców: 16.19\n"
     ]
    }
   ],
   "source": [
    "_data = _df.loc[2022][\"suma\"] / LICZBA_OBYWATELI * 1000\n",
    "print(f\"Liczba wszystkich wiz na 1000 mieszkańców: {_data.round(2)}\")"
   ]
  },
  {
   "cell_type": "markdown",
   "id": "83bb03a1-83a0-40d3-9b5f-94161d086eed",
   "metadata": {},
   "source": [
    "## 2. Ranking krajów dla sumy dla last 2020-2022"
   ]
  },
  {
   "cell_type": "code",
   "execution_count": 74,
   "id": "482b73d0-bc4f-4787-b094-a6ab126a4c09",
   "metadata": {},
   "outputs": [
    {
     "name": "stderr",
     "output_type": "stream",
     "text": [
      "/tmp/ipykernel_82465/3863294478.py:9: SettingWithCopyWarning: \n",
      "A value is trying to be set on a copy of a slice from a DataFrame\n",
      "\n",
      "See the caveats in the documentation: https://pandas.pydata.org/pandas-docs/stable/user_guide/indexing.html#returning-a-view-versus-a-copy\n",
      "  _df.loc[\"INNE\"] = _df_top[12:].sum()\n"
     ]
    },
    {
     "data": {
      "text/html": [
       "<div>\n",
       "<style scoped>\n",
       "    .dataframe tbody tr th:only-of-type {\n",
       "        vertical-align: middle;\n",
       "    }\n",
       "\n",
       "    .dataframe tbody tr th {\n",
       "        vertical-align: top;\n",
       "    }\n",
       "\n",
       "    .dataframe thead th {\n",
       "        text-align: right;\n",
       "    }\n",
       "</style>\n",
       "<table border=\"1\" class=\"dataframe\">\n",
       "  <thead>\n",
       "    <tr style=\"text-align: right;\">\n",
       "      <th></th>\n",
       "      <th>ilość</th>\n",
       "      <th>procenty</th>\n",
       "    </tr>\n",
       "    <tr>\n",
       "      <th>obywatelstwo</th>\n",
       "      <th></th>\n",
       "      <th></th>\n",
       "    </tr>\n",
       "  </thead>\n",
       "  <tbody>\n",
       "    <tr>\n",
       "      <th>UKRAINA</th>\n",
       "      <td>1581511.0</td>\n",
       "      <td>0.608860</td>\n",
       "    </tr>\n",
       "    <tr>\n",
       "      <th>BIAŁORUŚ</th>\n",
       "      <td>624682.0</td>\n",
       "      <td>0.240494</td>\n",
       "    </tr>\n",
       "    <tr>\n",
       "      <th>ROSJA</th>\n",
       "      <td>79559.0</td>\n",
       "      <td>0.030629</td>\n",
       "    </tr>\n",
       "    <tr>\n",
       "      <th>TURCJA</th>\n",
       "      <td>49447.0</td>\n",
       "      <td>0.019036</td>\n",
       "    </tr>\n",
       "    <tr>\n",
       "      <th>INDIE</th>\n",
       "      <td>38893.0</td>\n",
       "      <td>0.014973</td>\n",
       "    </tr>\n",
       "    <tr>\n",
       "      <th>GRUZJA</th>\n",
       "      <td>17553.0</td>\n",
       "      <td>0.006758</td>\n",
       "    </tr>\n",
       "    <tr>\n",
       "      <th>KAZACHSTAN</th>\n",
       "      <td>17276.0</td>\n",
       "      <td>0.006651</td>\n",
       "    </tr>\n",
       "    <tr>\n",
       "      <th>UZBEKISTAN</th>\n",
       "      <td>15617.0</td>\n",
       "      <td>0.006012</td>\n",
       "    </tr>\n",
       "    <tr>\n",
       "      <th>MOŁDAWIA</th>\n",
       "      <td>14857.0</td>\n",
       "      <td>0.005720</td>\n",
       "    </tr>\n",
       "    <tr>\n",
       "      <th>FILIPINY</th>\n",
       "      <td>12863.0</td>\n",
       "      <td>0.004952</td>\n",
       "    </tr>\n",
       "    <tr>\n",
       "      <th>AZERBEJDŻAN</th>\n",
       "      <td>12324.0</td>\n",
       "      <td>0.004745</td>\n",
       "    </tr>\n",
       "    <tr>\n",
       "      <th>ARMENIA</th>\n",
       "      <td>10102.0</td>\n",
       "      <td>0.003889</td>\n",
       "    </tr>\n",
       "    <tr>\n",
       "      <th>INNE</th>\n",
       "      <td>122811.0</td>\n",
       "      <td>0.047281</td>\n",
       "    </tr>\n",
       "  </tbody>\n",
       "</table>\n",
       "</div>"
      ],
      "text/plain": [
       "                  ilość  procenty\n",
       "obywatelstwo                     \n",
       "UKRAINA       1581511.0  0.608860\n",
       "BIAŁORUŚ       624682.0  0.240494\n",
       "ROSJA           79559.0  0.030629\n",
       "TURCJA          49447.0  0.019036\n",
       "INDIE           38893.0  0.014973\n",
       "GRUZJA          17553.0  0.006758\n",
       "KAZACHSTAN      17276.0  0.006651\n",
       "UZBEKISTAN      15617.0  0.006012\n",
       "MOŁDAWIA        14857.0  0.005720\n",
       "FILIPINY        12863.0  0.004952\n",
       "AZERBEJDŻAN     12324.0  0.004745\n",
       "ARMENIA         10102.0  0.003889\n",
       "INNE           122811.0  0.047281"
      ]
     },
     "execution_count": 74,
     "metadata": {},
     "output_type": "execute_result"
    }
   ],
   "source": [
    "_df_top = df.groupby(\"obywatelstwo\")[[\"A\", \"D\", \"C\"]]  \\\n",
    ".sum()  \\\n",
    ".sum(axis=1)  \\\n",
    ".to_frame(\"ilość\")  \\\n",
    ".sort_values(\"ilość\", ascending=False)\n",
    "_df_top[\"procenty\"] = _df_top[\"ilość\"] / _df_top[\"ilość\"].sum()\n",
    "\n",
    "_df =_df_top.head(12)\n",
    "_df.loc[\"INNE\"] = _df_top[12:].sum()\n",
    "_df"
   ]
  },
  {
   "cell_type": "code",
   "execution_count": 93,
   "id": "b2219cfb-d73d-4c87-9cb8-aa4f96d75e33",
   "metadata": {},
   "outputs": [
    {
     "data": {
      "text/plain": [
       "202"
      ]
     },
     "execution_count": 93,
     "metadata": {},
     "output_type": "execute_result"
    }
   ],
   "source": [
    "len(_df_top)"
   ]
  },
  {
   "cell_type": "code",
   "execution_count": 86,
   "id": "88d98738-0f7c-4fe8-a1ca-190c09dbfd82",
   "metadata": {},
   "outputs": [
    {
     "data": {
      "text/plain": [
       "2597495.0"
      ]
     },
     "execution_count": 86,
     "metadata": {},
     "output_type": "execute_result"
    }
   ],
   "source": [
    "W latach 2020-2022 wydanych zostało 2597495 wiz dla obywateli z 202 różnych krajów.\n",
    "Najwięcej wiz wydanych było dla obywateli Ukrainy (1581511, 60.9%) oraz Białorusi (624682, czyli 24.0%).\n",
    "\n",
    "Pozostałe 15% przypada na pozostałe 200 krajów"
   ]
  },
  {
   "cell_type": "code",
   "execution_count": 91,
   "id": "98db8352-e23e-4902-90e6-bb23d20bf689",
   "metadata": {},
   "outputs": [
    {
     "data": {
      "text/plain": [
       "(391302.0, 0.1506459107717243)"
      ]
     },
     "execution_count": 91,
     "metadata": {},
     "output_type": "execute_result"
    }
   ],
   "source": [
    "_df.iloc[2:]['ilość'].sum(), _df.iloc[2:]['ilość'].sum() / _df['ilość'].sum()"
   ]
  },
  {
   "cell_type": "markdown",
   "id": "a9c6c024-451a-4355-9433-d048825a6b96",
   "metadata": {},
   "source": [
    "## 3. Udział krajów islamskich"
   ]
  },
  {
   "cell_type": "code",
   "execution_count": 71,
   "id": "758c1452-758b-4c5e-bfc2-804748a2a7cd",
   "metadata": {},
   "outputs": [],
   "source": [
    "KRAJE_ISLAMSKIE = \"Mauretania\", \"Somalia\", \"Algieria\", \"Maroko\", \"Malediwy\", \"Komory\", \"Niger\", \"Tunezja\", \"Dżibuti\", \"Libia\", \"Gambia\", \"Sudan\", \"Mali\", \"Sierra Leone\", \"Burkina Faso\", \"Czad\", \"Senegal\", \"Gwinea\", \"Afganistan\", \"Iran\", \"Tadżykistan\", \"Azerbejdżan\", \"Jordania\", \"Jemen\", \"Pakistan\", \"Arabia Saudyjska\", \"Irak\", \"Turkmenistan\", \"Bangladesz\", \"Egipt\", \"Turcja\", \"Uzbekistan\", \"Indonezja\", \"Oman\", \"Syria\", \"Brunei\", \"Kirgistan\", \"Katar\", \"Kuwejt\", \"Bahrain\", \"Zjednoczone Emiraty Arabskie\", \"Kazachstan\", \"Liban\", \"Malezja\"\n",
    "kraje_islamskie = [k.lower() for k in KRAJE_ISLAMSKIE]"
   ]
  },
  {
   "cell_type": "markdown",
   "id": "3d296c98-54e7-4741-9af8-7519adb29868",
   "metadata": {},
   "source": [
    "### 3.2. Liczba wiz dla cudzoziemców z krajów islamskich w latach 2020-2022"
   ]
  },
  {
   "cell_type": "code",
   "execution_count": 72,
   "id": "ae3bf02b-9147-4eea-8f74-c395999b6406",
   "metadata": {},
   "outputs": [
    {
     "data": {
      "text/html": [
       "<div>\n",
       "<style scoped>\n",
       "    .dataframe tbody tr th:only-of-type {\n",
       "        vertical-align: middle;\n",
       "    }\n",
       "\n",
       "    .dataframe tbody tr th {\n",
       "        vertical-align: top;\n",
       "    }\n",
       "\n",
       "    .dataframe thead th {\n",
       "        text-align: right;\n",
       "    }\n",
       "</style>\n",
       "<table border=\"1\" class=\"dataframe\">\n",
       "  <thead>\n",
       "    <tr style=\"text-align: right;\">\n",
       "      <th></th>\n",
       "      <th>A</th>\n",
       "      <th>C</th>\n",
       "      <th>D</th>\n",
       "      <th>Suma</th>\n",
       "    </tr>\n",
       "    <tr>\n",
       "      <th>rok</th>\n",
       "      <th></th>\n",
       "      <th></th>\n",
       "      <th></th>\n",
       "      <th></th>\n",
       "    </tr>\n",
       "  </thead>\n",
       "  <tbody>\n",
       "    <tr>\n",
       "      <th>2020</th>\n",
       "      <td>0.0</td>\n",
       "      <td>11427.0</td>\n",
       "      <td>18995.0</td>\n",
       "      <td>30422.0</td>\n",
       "    </tr>\n",
       "    <tr>\n",
       "      <th>2021</th>\n",
       "      <td>0.0</td>\n",
       "      <td>10231.0</td>\n",
       "      <td>28786.0</td>\n",
       "      <td>39017.0</td>\n",
       "    </tr>\n",
       "    <tr>\n",
       "      <th>2022</th>\n",
       "      <td>3.0</td>\n",
       "      <td>25480.0</td>\n",
       "      <td>49556.0</td>\n",
       "      <td>75039.0</td>\n",
       "    </tr>\n",
       "  </tbody>\n",
       "</table>\n",
       "</div>"
      ],
      "text/plain": [
       "        A        C        D     Suma\n",
       "rok                                 \n",
       "2020  0.0  11427.0  18995.0  30422.0\n",
       "2021  0.0  10231.0  28786.0  39017.0\n",
       "2022  3.0  25480.0  49556.0  75039.0"
      ]
     },
     "execution_count": 72,
     "metadata": {},
     "output_type": "execute_result"
    }
   ],
   "source": [
    "_df_all = df.groupby(\"rok\")[[\"A\", \"C\", \"D\"]].sum()\n",
    "_df_all['Suma'] = _df_all.sum(axis=1)\n",
    "\n",
    "_df = df[df['obywatelstwo'].str.lower().isin(kraje_islamskie)]\n",
    "_df_group = _df.groupby(\"rok\")[[\"A\", \"C\", \"D\"]].sum()\n",
    "_df_group['Suma'] = _df_group.sum(axis=1)\n",
    "_df_group"
   ]
  },
  {
   "cell_type": "markdown",
   "id": "c892cca7-1a55-48c6-a79c-4d1b1368c2c0",
   "metadata": {},
   "source": [
    "### 3.3. Udział procentowy wiz dla cudzoziemców z krajów islamskich"
   ]
  },
  {
   "cell_type": "code",
   "execution_count": 73,
   "id": "252427d1-2157-4f80-b9bb-25a1e27fa632",
   "metadata": {},
   "outputs": [
    {
     "data": {
      "text/html": [
       "<div>\n",
       "<style scoped>\n",
       "    .dataframe tbody tr th:only-of-type {\n",
       "        vertical-align: middle;\n",
       "    }\n",
       "\n",
       "    .dataframe tbody tr th {\n",
       "        vertical-align: top;\n",
       "    }\n",
       "\n",
       "    .dataframe thead th {\n",
       "        text-align: right;\n",
       "    }\n",
       "</style>\n",
       "<table border=\"1\" class=\"dataframe\">\n",
       "  <thead>\n",
       "    <tr style=\"text-align: right;\">\n",
       "      <th></th>\n",
       "      <th>A</th>\n",
       "      <th>C</th>\n",
       "      <th>D</th>\n",
       "      <th>Suma</th>\n",
       "    </tr>\n",
       "    <tr>\n",
       "      <th>rok</th>\n",
       "      <th></th>\n",
       "      <th></th>\n",
       "      <th></th>\n",
       "      <th></th>\n",
       "    </tr>\n",
       "  </thead>\n",
       "  <tbody>\n",
       "    <tr>\n",
       "      <th>2020</th>\n",
       "      <td>0.000000</td>\n",
       "      <td>0.110148</td>\n",
       "      <td>0.022604</td>\n",
       "      <td>0.032224</td>\n",
       "    </tr>\n",
       "    <tr>\n",
       "      <th>2021</th>\n",
       "      <td>NaN</td>\n",
       "      <td>0.259888</td>\n",
       "      <td>0.028698</td>\n",
       "      <td>0.037429</td>\n",
       "    </tr>\n",
       "    <tr>\n",
       "      <th>2022</th>\n",
       "      <td>0.027523</td>\n",
       "      <td>0.349367</td>\n",
       "      <td>0.092119</td>\n",
       "      <td>0.122814</td>\n",
       "    </tr>\n",
       "  </tbody>\n",
       "</table>\n",
       "</div>"
      ],
      "text/plain": [
       "             A         C         D      Suma\n",
       "rok                                         \n",
       "2020  0.000000  0.110148  0.022604  0.032224\n",
       "2021       NaN  0.259888  0.028698  0.037429\n",
       "2022  0.027523  0.349367  0.092119  0.122814"
      ]
     },
     "execution_count": 73,
     "metadata": {},
     "output_type": "execute_result"
    }
   ],
   "source": [
    "_df_group / _df_all"
   ]
  }
 ],
 "metadata": {
  "kernelspec": {
   "display_name": "Python 3 (ipykernel)",
   "language": "python",
   "name": "python3"
  },
  "language_info": {
   "codemirror_mode": {
    "name": "ipython",
    "version": 3
   },
   "file_extension": ".py",
   "mimetype": "text/x-python",
   "name": "python",
   "nbconvert_exporter": "python",
   "pygments_lexer": "ipython3",
   "version": "3.9.14"
  }
 },
 "nbformat": 4,
 "nbformat_minor": 5
}

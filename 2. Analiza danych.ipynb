{
 "cells": [
  {
   "cell_type": "code",
   "execution_count": 1,
   "id": "83076b7a-d39c-4e03-ac6c-c5b9ed8bd78d",
   "metadata": {},
   "outputs": [],
   "source": [
    "import pandas as pd"
   ]
  },
  {
   "cell_type": "markdown",
   "id": "0213f8d9-3ee9-4220-8c8f-4bb024422a3f",
   "metadata": {},
   "source": [
    "# 1. Zestawienie wiz krajowych wydanych w latach 2020-2022"
   ]
  },
  {
   "cell_type": "code",
   "execution_count": 4,
   "id": "5bbc35d2-8f06-4f7a-b5bb-1548aa58f49a",
   "metadata": {},
   "outputs": [],
   "source": [
    "LICZBA_OBYWATELI = 37750000"
   ]
  },
  {
   "cell_type": "code",
   "execution_count": 2,
   "id": "242ef939-7d53-40ff-bb0d-4eb0f743ebfb",
   "metadata": {},
   "outputs": [],
   "source": [
    "df = pd.read_csv(\"./data/wizy_a_b_c_2022_2022.csv\")"
   ]
  },
  {
   "cell_type": "code",
   "execution_count": 3,
   "id": "225ef363-e875-4150-b0a5-48fdb98345f5",
   "metadata": {},
   "outputs": [
    {
     "data": {
      "text/html": [
       "<div>\n",
       "<style scoped>\n",
       "    .dataframe tbody tr th:only-of-type {\n",
       "        vertical-align: middle;\n",
       "    }\n",
       "\n",
       "    .dataframe tbody tr th {\n",
       "        vertical-align: top;\n",
       "    }\n",
       "\n",
       "    .dataframe thead th {\n",
       "        text-align: right;\n",
       "    }\n",
       "</style>\n",
       "<table border=\"1\" class=\"dataframe\">\n",
       "  <thead>\n",
       "    <tr style=\"text-align: right;\">\n",
       "      <th></th>\n",
       "      <th>A</th>\n",
       "      <th>C</th>\n",
       "      <th>D</th>\n",
       "      <th>suma</th>\n",
       "    </tr>\n",
       "    <tr>\n",
       "      <th>rok</th>\n",
       "      <th></th>\n",
       "      <th></th>\n",
       "      <th></th>\n",
       "      <th></th>\n",
       "    </tr>\n",
       "  </thead>\n",
       "  <tbody>\n",
       "    <tr>\n",
       "      <th>2020</th>\n",
       "      <td>1.0</td>\n",
       "      <td>103742.0</td>\n",
       "      <td>840327.0</td>\n",
       "      <td>944070.0</td>\n",
       "    </tr>\n",
       "    <tr>\n",
       "      <th>2021</th>\n",
       "      <td>0.0</td>\n",
       "      <td>39367.0</td>\n",
       "      <td>1003059.0</td>\n",
       "      <td>1042426.0</td>\n",
       "    </tr>\n",
       "    <tr>\n",
       "      <th>2022</th>\n",
       "      <td>109.0</td>\n",
       "      <td>72932.0</td>\n",
       "      <td>537958.0</td>\n",
       "      <td>610999.0</td>\n",
       "    </tr>\n",
       "  </tbody>\n",
       "</table>\n",
       "</div>"
      ],
      "text/plain": [
       "          A         C          D       suma\n",
       "rok                                        \n",
       "2020    1.0  103742.0   840327.0   944070.0\n",
       "2021    0.0   39367.0  1003059.0  1042426.0\n",
       "2022  109.0   72932.0   537958.0   610999.0"
      ]
     },
     "execution_count": 3,
     "metadata": {},
     "output_type": "execute_result"
    }
   ],
   "source": [
    "_df = df.groupby('rok')[['A', 'C', 'D']].sum()\n",
    "_df['suma'] = _df.sum(axis=1)\n",
    "_df"
   ]
  },
  {
   "cell_type": "code",
   "execution_count": 10,
   "id": "81141248-755a-41b7-ba94-b2e41b65bc76",
   "metadata": {},
   "outputs": [
    {
     "name": "stdout",
     "output_type": "stream",
     "text": [
      "Liczba wiz typu C na 1000 mieszkańców: 1.93\n"
     ]
    }
   ],
   "source": [
    "_data = _df.loc[2022][\"C\"] / LICZBA_OBYWATELI * 1000\n",
    "print(f\"Liczba wiz typu C na 1000 mieszkańców: {_data.round(2)}\")"
   ]
  },
  {
   "cell_type": "code",
   "execution_count": 11,
   "id": "307ed855-2424-41dc-9236-3b64070c3b26",
   "metadata": {},
   "outputs": [
    {
     "name": "stdout",
     "output_type": "stream",
     "text": [
      "Liczba wiz typu D na 1000 mieszkańców: 14.25\n"
     ]
    }
   ],
   "source": [
    "_data = _df.loc[2022][\"D\"] / LICZBA_OBYWATELI * 1000\n",
    "print(f\"Liczba wiz typu D na 1000 mieszkańców: {_data.round(2)}\")"
   ]
  },
  {
   "cell_type": "code",
   "execution_count": 13,
   "id": "a933c017-de13-4b42-b73a-b6222dd3cfb1",
   "metadata": {},
   "outputs": [
    {
     "name": "stdout",
     "output_type": "stream",
     "text": [
      "Liczba wszystkich wiz na 1000 mieszkańców: 16.19\n"
     ]
    }
   ],
   "source": [
    "_data = _df.loc[2022][\"suma\"] / LICZBA_OBYWATELI * 1000\n",
    "print(f\"Liczba wszystkich wiz na 1000 mieszkańców: {_data.round(2)}\")"
   ]
  }
 ],
 "metadata": {
  "kernelspec": {
   "display_name": "Python 3 (ipykernel)",
   "language": "python",
   "name": "python3"
  },
  "language_info": {
   "codemirror_mode": {
    "name": "ipython",
    "version": 3
   },
   "file_extension": ".py",
   "mimetype": "text/x-python",
   "name": "python",
   "nbconvert_exporter": "python",
   "pygments_lexer": "ipython3",
   "version": "3.9.14"
  }
 },
 "nbformat": 4,
 "nbformat_minor": 5
}
